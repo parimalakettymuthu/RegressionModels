{
 "cells": [
  {
   "cell_type": "code",
   "execution_count": 2,
   "metadata": {},
   "outputs": [],
   "source": [
    "import pandas as pd "
   ]
  },
  {
   "cell_type": "code",
   "execution_count": 5,
   "metadata": {},
   "outputs": [],
   "source": [
    "train_df = pd.read_csv(\"C:\\\\Users\\\\parim\\\\Downloads\\\\predict-energy-behavior-of-prosumers\\\\train.csv\")\n",
    "weather_station_to_county_mapping_df = pd.read_csv(\"C:\\\\Users\\\\parim\\\\Downloads\\\\predict-energy-behavior-of-prosumers\\\\weather_station_to_county_mapping.csv\")\n",
    "historical_weather_df = pd.read_csv(\"C:\\\\Users\\\\parim\\\\Downloads\\\\predict-energy-behavior-of-prosumers\\\\historical_weather.csv\")\n",
    "forecast_weather_df = pd.read_csv(\"C:\\\\Users\\\\parim\\\\Downloads\\\\predict-energy-behavior-of-prosumers\\\\forecast_weather.csv\")\n",
    "gas_prices_df = pd.read_csv(\"C:\\\\Users\\\\parim\\\\Downloads\\\\predict-energy-behavior-of-prosumers\\\\gas_prices.csv\")\n",
    "electricity_prices_df = pd.read_csv(\"C:\\\\Users\\\\parim\\\\Downloads\\\\predict-energy-behavior-of-prosumers\\\\electricity_prices.csv\")\n",
    "client_df = pd.read_csv(\"C:\\\\Users\\\\parim\\\\Downloads\\\\predict-energy-behavior-of-prosumers\\\\client.csv\")\n"
   ]
  },
  {
   "cell_type": "code",
   "execution_count": 7,
   "metadata": {},
   "outputs": [
    {
     "name": "stdout",
     "output_type": "stream",
     "text": [
      "train df shape :(2018352, 9) \n",
      "       weather station to country mapping: (112, 4) \n",
      "         historical weather: (1710802, 18)\n",
      "         forecast weather: (3424512, 18) \n",
      "         gas prices : (637, 5) \n",
      "         electricity prices: (15286, 4) \n",
      "         client list: (41919, 7)\n"
     ]
    }
   ],
   "source": [
    "print(f\"train df shape :{train_df.shape} \\n \\\n",
    "      weather station to country mapping: {weather_station_to_county_mapping_df.shape} \\n \\\n",
    "        historical weather: {historical_weather_df.shape}\\n \\\n",
    "        forecast weather: {forecast_weather_df.shape} \\n \\\n",
    "        gas prices : {gas_prices_df.shape} \\n \\\n",
    "        electricity prices: {electricity_prices_df.shape} \\n \\\n",
    "        client list: {client_df.shape}\"\n",
    "        )"
   ]
  },
  {
   "cell_type": "code",
   "execution_count": 9,
   "metadata": {},
   "outputs": [
    {
     "name": "stdout",
     "output_type": "stream",
     "text": [
      "train df cols :Index(['county', 'is_business', 'product_type', 'target', 'is_consumption',\n",
      "       'datetime', 'data_block_id', 'row_id', 'prediction_unit_id'],\n",
      "      dtype='object') \n",
      "\n",
      "       weather station to country mapping cols: Index(['county_name', 'longitude', 'latitude', 'county'], dtype='object') \n",
      " \n",
      "        historical weather cols: Index(['datetime', 'temperature', 'dewpoint', 'rain', 'snowfall',\n",
      "       'surface_pressure', 'cloudcover_total', 'cloudcover_low',\n",
      "       'cloudcover_mid', 'cloudcover_high', 'windspeed_10m',\n",
      "       'winddirection_10m', 'shortwave_radiation', 'direct_solar_radiation',\n",
      "       'diffuse_radiation', 'latitude', 'longitude', 'data_block_id'],\n",
      "      dtype='object')\n",
      "\n",
      "         forecast weather cols: Index(['latitude', 'longitude', 'origin_datetime', 'hours_ahead',\n",
      "       'temperature', 'dewpoint', 'cloudcover_high', 'cloudcover_low',\n",
      "       'cloudcover_mid', 'cloudcover_total', '10_metre_u_wind_component',\n",
      "       '10_metre_v_wind_component', 'data_block_id', 'forecast_datetime',\n",
      "       'direct_solar_radiation', 'surface_solar_radiation_downwards',\n",
      "       'snowfall', 'total_precipitation'],\n",
      "      dtype='object') \n",
      "\n",
      "         gas prices cols: Index(['forecast_date', 'lowest_price_per_mwh', 'highest_price_per_mwh',\n",
      "       'origin_date', 'data_block_id'],\n",
      "      dtype='object') \n",
      "\n",
      "         electricity prices cols: Index(['forecast_date', 'euros_per_mwh', 'origin_date', 'data_block_id'], dtype='object') \n",
      "\n",
      "         client list cols: Index(['product_type', 'county', 'eic_count', 'installed_capacity',\n",
      "       'is_business', 'date', 'data_block_id'],\n",
      "      dtype='object')\n"
     ]
    }
   ],
   "source": [
    "print(f\"train df cols :{train_df.columns} \\n\\n \\\n",
    "      weather station to country mapping cols: {weather_station_to_county_mapping_df.columns} \\n \\n\\\n",
    "        historical weather cols: {historical_weather_df.columns}\\n\\n \\\n",
    "        forecast weather cols: {forecast_weather_df.columns} \\n\\n \\\n",
    "        gas prices cols: {gas_prices_df.columns} \\n\\n \\\n",
    "        electricity prices cols: {electricity_prices_df.columns} \\n\\n \\\n",
    "        client list cols: {client_df.columns}\"\n",
    "        )"
   ]
  },
  {
   "cell_type": "code",
   "execution_count": 10,
   "metadata": {},
   "outputs": [
    {
     "data": {
      "text/plain": [
       "'2021-09-01 00:00:00'"
      ]
     },
     "execution_count": 10,
     "metadata": {},
     "output_type": "execute_result"
    }
   ],
   "source": [
    "train_df['datetime'][0]"
   ]
  },
  {
   "cell_type": "code",
   "execution_count": 12,
   "metadata": {},
   "outputs": [
    {
     "name": "stdout",
     "output_type": "stream",
     "text": [
      "train df cols :2021-09-01 00:00:00 \n",
      "\n",
      "         historical weather cols: 2021-09-01 00:00:00\n",
      "\n",
      "         client list cols: 2021-09-01\n"
     ]
    }
   ],
   "source": [
    "print(f\"train df cols :{train_df['datetime'][2]} \\n\\n \\\n",
    "        historical weather cols: {historical_weather_df['datetime'][0]}\\n\\n \\\n",
    "        client list cols: {client_df['date'][0]}\"\n",
    "        )"
   ]
  },
  {
   "cell_type": "code",
   "execution_count": 14,
   "metadata": {},
   "outputs": [
    {
     "data": {
      "text/plain": [
       "(array([ 0,  1,  2,  3,  4,  5,  6,  7,  8,  9, 10, 11, 12, 13, 14, 15],\n",
       "       dtype=int64),\n",
       " array([nan, 10.,  1.,  7.,  6.,  9.,  0., 14.,  3., 13., 11.,  4.,  5.,\n",
       "        15.,  8.,  2.]))"
      ]
     },
     "execution_count": 14,
     "metadata": {},
     "output_type": "execute_result"
    }
   ],
   "source": [
    "train_df['county'].unique(), weather_station_to_county_mapping_df['county'].unique()"
   ]
  },
  {
   "cell_type": "code",
   "execution_count": null,
   "metadata": {},
   "outputs": [],
   "source": []
  }
 ],
 "metadata": {
  "kernelspec": {
   "display_name": "Python 3",
   "language": "python",
   "name": "python3"
  },
  "language_info": {
   "codemirror_mode": {
    "name": "ipython",
    "version": 3
   },
   "file_extension": ".py",
   "mimetype": "text/x-python",
   "name": "python",
   "nbconvert_exporter": "python",
   "pygments_lexer": "ipython3",
   "version": "3.11.7"
  }
 },
 "nbformat": 4,
 "nbformat_minor": 2
}
